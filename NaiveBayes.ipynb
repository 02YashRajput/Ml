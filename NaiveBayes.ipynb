{
 "cells": [
  {
   "cell_type": "code",
   "execution_count": 2,
   "metadata": {},
   "outputs": [
    {
     "data": {
      "text/plain": [
       "0.96"
      ]
     },
     "execution_count": 2,
     "metadata": {},
     "output_type": "execute_result"
    }
   ],
   "source": [
    "import numpy as np\n",
    "from sklearn.model_selection import train_test_split\n",
    "from sklearn import datasets\n",
    "class NaiveBayes:\n",
    "    def fit(self,X,y):\n",
    "        n_samples,n_features = X.shape\n",
    "        self.classes = np.unique(y)\n",
    "        n_classes = len(self.classes)\n",
    "        self.mean = np.zeros((n_classes, n_features))\n",
    "        self.var =  np.zeros((n_classes, n_features))\n",
    "        self.prior = np.zeros(n_classes)\n",
    "        for index,c in enumerate(self.classes):\n",
    "            Xc = X[y==c]\n",
    "            self.mean[index,:]= Xc.mean(axis = 0)\n",
    "            self.var[index,:]= Xc.var(axis = 0)\n",
    "            self.prior[index] = len(Xc)/n_samples\n",
    "\n",
    "\n",
    "    def predict(self,X):\n",
    "        y_predict = [self.single_prediction(x) for x in X]\n",
    "        return y_predict\n",
    "    def single_prediction(self,X):\n",
    "        posteriors = []\n",
    "        for i,c in enumerate(self.classes):\n",
    "            prior = np.log(self.prior[i])\n",
    "            posterior_prob = np.sum(np.log(self.gussian(i,X)))\n",
    "            posterior = prior+posterior_prob\n",
    "            posteriors.append(posterior)\n",
    "        return self.classes[np.argmax(posteriors)]\n",
    "   \n",
    "    def gussian(self,classs,x):\n",
    "        mean = self.mean[classs]\n",
    "        var = self.var[classs]\n",
    "        numerator = np.exp(-(x-mean)**2/(2*var**2))\n",
    "        denominator = var*np.sqrt(2*np.pi)\n",
    "        return numerator/denominator\n",
    "\n",
    "def accuracy(y_pred,y_test):\n",
    "    output = np.sum(y_pred == y_test)\n",
    "    total = len(y_test)\n",
    "    return output/total\n",
    "   \n",
    "\n",
    "x,y = datasets.make_classification(n_samples=1000,n_features=10,n_classes=2,random_state=123)\n",
    "X_train, X_test, y_train, y_test = train_test_split(x, y, test_size=0.2, random_state=42)\n",
    "NB = NaiveBayes()\n",
    "NB.fit(X_train,y_train)\n",
    "y_pred = NB.predict(X_test)\n",
    "accuracy(y_pred,y_test)"
   ]
  },
  {
   "cell_type": "code",
   "execution_count": 4,
   "metadata": {},
   "outputs": [
    {
     "data": {
      "text/plain": [
       "0.955"
      ]
     },
     "execution_count": 4,
     "metadata": {},
     "output_type": "execute_result"
    }
   ],
   "source": [
    "from sklearn.naive_bayes import GaussianNB\n",
    "gnb = GaussianNB()\n",
    "gnb.fit(X_train,y_train)\n",
    "y_pred = gnb.predict(X_test)\n",
    "accuracy(y_pred,y_test)"
   ]
  }
 ],
 "metadata": {
  "kernelspec": {
   "display_name": "Python 3",
   "language": "python",
   "name": "python3"
  },
  "language_info": {
   "codemirror_mode": {
    "name": "ipython",
    "version": 3
   },
   "file_extension": ".py",
   "mimetype": "text/x-python",
   "name": "python",
   "nbconvert_exporter": "python",
   "pygments_lexer": "ipython3",
   "version": "3.12.1"
  }
 },
 "nbformat": 4,
 "nbformat_minor": 2
}
