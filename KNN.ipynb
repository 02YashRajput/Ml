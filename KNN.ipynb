{
 "cells": [
  {
   "cell_type": "code",
   "execution_count": 17,
   "metadata": {},
   "outputs": [],
   "source": [
    "from sklearn import datasets\n",
    "from sklearn.model_selection import train_test_split\n",
    "import numpy as np\n",
    "from collections import Counter\n",
    "\n",
    "\n",
    "def euclidian_distance(x1,x2):\n",
    "  distance = np.sqrt(np.sum((x1-x2)**2))\n",
    "  return distance\n",
    "\n",
    "class KNN:\n",
    "  def __init__(self,k = 5):\n",
    "    self.k = k\n",
    "\n",
    "  def fit (self,X,y):\n",
    "    self.X = X\n",
    "    self.y = y\n",
    "\n",
    "  def predict(self,x):\n",
    "    prediction = [self.prediction(xi) for xi in x ]\n",
    "    return prediction\n",
    "  \n",
    "  def prediction(self,x):\n",
    "    distances = [euclidian_distance(x,X_train) for X_train in self.X ]\n",
    "    k_indices = np.argsort(distances)[:self.k]\n",
    "\n",
    "    k_nearest_labels = [self.y[i] for i in k_indices]\n",
    "    most_comm = Counter(k_nearest_labels).most_common()\n",
    "    return most_comm[0][0]\n",
    "  \n",
    "\n",
    "def accuracy(y_pred,y_test):\n",
    "  count = np.sum(y_pred == y_test)\n",
    "  return count/len(y_pred)\n",
    "\n",
    "\n",
    "\n"
   ]
  },
  {
   "cell_type": "code",
   "execution_count": 18,
   "metadata": {},
   "outputs": [
    {
     "name": "stdout",
     "output_type": "stream",
     "text": [
      "[1, 0, 2, 1, 1, 0, 1, 2, 1, 1, 2, 0, 0, 0, 0, 1, 2, 1, 1, 2, 0, 2, 0, 2, 2, 2, 2, 2, 0, 0]\n"
     ]
    },
    {
     "data": {
      "text/plain": [
       "1.0"
      ]
     },
     "execution_count": 18,
     "metadata": {},
     "output_type": "execute_result"
    }
   ],
   "source": [
    "iris = datasets.load_iris()\n",
    "X = iris.data\n",
    "y = iris.target\n",
    "X_train,X_test,y_train,y_test = train_test_split(X,y,test_size=0.2,random_state=42 )\n",
    "knn = KNN()\n",
    "knn.fit(X_train,y_train)\n",
    "y_pred = knn.predict(X_test)\n",
    "print(y_pred)\n",
    "accuracy(y_pred,y_test)\n"
   ]
  },
  {
   "cell_type": "code",
   "execution_count": 15,
   "metadata": {},
   "outputs": [
    {
     "name": "stdout",
     "output_type": "stream",
     "text": [
      "[1 0 2 1 1 0 1 2 1 1 2 0 0 0 0 1 2 1 1 2 0 2 0 2 2 2 2 2 0 0]\n"
     ]
    }
   ],
   "source": [
    "from sklearn.neighbors import KNeighborsClassifier\n",
    "knn = KNeighborsClassifier(n_neighbors=5)\n",
    "knn.fit(X_train,y_train)\n",
    "predictions = knn.predict(X_test)\n",
    "print(predictions)\n"
   ]
  }
 ],
 "metadata": {
  "kernelspec": {
   "display_name": "Python 3",
   "language": "python",
   "name": "python3"
  },
  "language_info": {
   "codemirror_mode": {
    "name": "ipython",
    "version": 3
   },
   "file_extension": ".py",
   "mimetype": "text/x-python",
   "name": "python",
   "nbconvert_exporter": "python",
   "pygments_lexer": "ipython3",
   "version": "3.12.1"
  }
 },
 "nbformat": 4,
 "nbformat_minor": 2
}
