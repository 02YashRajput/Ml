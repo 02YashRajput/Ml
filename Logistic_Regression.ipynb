{
 "cells": [
  {
   "cell_type": "code",
   "execution_count": 7,
   "metadata": {},
   "outputs": [
    {
     "data": {
      "text/plain": [
       "0.9298245614035088"
      ]
     },
     "execution_count": 7,
     "metadata": {},
     "output_type": "execute_result"
    }
   ],
   "source": [
    "import warnings\n",
    "warnings.filterwarnings(\"ignore\")\n",
    "from sklearn import datasets\n",
    "from sklearn.model_selection import train_test_split\n",
    "from sklearn.linear_model import LogisticRegression\n",
    "\n",
    "def check_accuracy(Y_pred,Y_test):\n",
    "    count = 0\n",
    "    for i in range(len(Y_pred)):\n",
    "        if Y_pred[i] == Y_test[i]:\n",
    "            count += 1\n",
    "    accuracy = count/len(Y_pred)\n",
    "    return accuracy\n",
    "\n",
    "df = datasets.load_breast_cancer()\n",
    "X = df.data\n",
    "y = df.target\n",
    "X_train,X_test,Y_train,Y_test = train_test_split(X,y,test_size=0.2,random_state=12)\n",
    "reg = LogisticRegression()\n",
    "reg.fit(X_train,Y_train)\n",
    "Y_pred = reg.predict(X_test)\n",
    "check_accuracy(Y_pred,Y_test)"
   ]
  },
  {
   "cell_type": "code",
   "execution_count": 14,
   "metadata": {},
   "outputs": [
    {
     "data": {
      "text/plain": [
       "0.8596491228070176"
      ]
     },
     "execution_count": 14,
     "metadata": {},
     "output_type": "execute_result"
    }
   ],
   "source": [
    "import numpy as np\n",
    "class MyLogisticRegression:\n",
    "    def __init__(self):\n",
    "        self.w = None\n",
    "        self.b = None\n",
    "        self.a = 0.001\n",
    "        self.n_iter = 10000\n",
    "\n",
    "    def sigmoid(self,x):\n",
    "        return 1/(1+np.exp(-x))\n",
    "    \n",
    "    def fit(self,X,Y):\n",
    "        m, n= X.shape\n",
    "        self.bias = 0\n",
    "        self.b = 0\n",
    "        self.w = np.zeros(n)\n",
    "        for i in range(self.n_iter):\n",
    "            Y_pred = np.dot(X,self.w)+self.b\n",
    "            pred = self.sigmoid(Y_pred)\n",
    "            error = pred - Y\n",
    "            self.w = self.w - (self.a/m)*np.dot(X.T,error)\n",
    "            self.b = self.b - (self.a/m)*np.sum(error)\n",
    "    \n",
    "    def predict(self,X):\n",
    "        Y_pred = np.dot(X,self.w)+self.b\n",
    "        Y_pred = self.sigmoid(Y_pred)\n",
    "        prediction = [0 if y <0.5 else 1 for y in  Y_pred] \n",
    "        return prediction\n",
    "\n",
    "    def check_accuracy(self,Y_pred,Y_test):\n",
    "        count = 0\n",
    "        for i in range(len(Y_pred)):\n",
    "            if Y_pred[i] == Y_test[i]:\n",
    "                count += 1\n",
    "        accuracy = count/len(Y_pred)\n",
    "        return accuracy\n",
    "reg2 = MyLogisticRegression()\n",
    "reg2.fit(X_train,Y_train)\n",
    "Y_pred =  reg2.predict(X_test)\n",
    "reg2.check_accuracy(Y_pred,Y_test)\n"
   ]
  }
 ],
 "metadata": {
  "kernelspec": {
   "display_name": "Python 3",
   "language": "python",
   "name": "python3"
  },
  "language_info": {
   "codemirror_mode": {
    "name": "ipython",
    "version": 3
   },
   "file_extension": ".py",
   "mimetype": "text/x-python",
   "name": "python",
   "nbconvert_exporter": "python",
   "pygments_lexer": "ipython3",
   "version": "3.12.1"
  }
 },
 "nbformat": 4,
 "nbformat_minor": 2
}
