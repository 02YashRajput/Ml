{
  "cells": [
    {
      "cell_type": "markdown",
      "metadata": {
        "colab_type": "text",
        "id": "view-in-github"
      },
      "source": [
        "<a href=\"https://colab.research.google.com/github/02YashRajput/Ml/blob/main/Logistic_Regression.ipynb\" target=\"_parent\"><img src=\"https://colab.research.google.com/assets/colab-badge.svg\" alt=\"Open In Colab\"/></a>"
      ]
    },
    {
      "cell_type": "code",
      "execution_count": 2,
      "metadata": {
        "id": "WSw69zKQIYbm",
        "outputId": "e10fdaa5-208f-418c-ad1c-c6e484e6344e"
      },
      "outputs": [
        {
          "data": {
            "text/plain": [
              "0.9298245614035088"
            ]
          },
          "execution_count": 2,
          "metadata": {},
          "output_type": "execute_result"
        }
      ],
      "source": [
        "import warnings\n",
        "warnings.filterwarnings(\"ignore\")\n",
        "from sklearn import datasets\n",
        "from sklearn.model_selection import train_test_split\n",
        "from sklearn.linear_model import LogisticRegression\n",
        "\n",
        "def check_accuracy(Y_pred,Y_test):\n",
        "    count = 0\n",
        "    for i in range(len(Y_pred)):\n",
        "        if Y_pred[i] == Y_test[i]:\n",
        "            count += 1\n",
        "    accuracy = count/len(Y_pred)\n",
        "    return accuracy\n",
        "\n",
        "df = datasets.load_breast_cancer()\n",
        "X = df.data\n",
        "y = df.target\n",
        "X_train,X_test,Y_train,Y_test = train_test_split(X,y,test_size=0.2,random_state=12)\n",
        "reg = LogisticRegression()\n",
        "reg.fit(X_train,Y_train)\n",
        "Y_pred = reg.predict(X_test)\n",
        "check_accuracy(Y_pred,Y_test)"
      ]
    },
    {
      "cell_type": "code",
      "execution_count": 3,
      "metadata": {
        "id": "SkYGYpXKIYbq",
        "outputId": "69a54392-e498-47b3-c51a-126eded08c2b"
      },
      "outputs": [
        {
          "data": {
            "text/plain": [
              "0.8596491228070176"
            ]
          },
          "execution_count": 3,
          "metadata": {},
          "output_type": "execute_result"
        }
      ],
      "source": [
        "import numpy as np\n",
        "import warnings\n",
        "warnings.filterwarnings(\"ignore\")\n",
        "from sklearn import datasets\n",
        "from sklearn.model_selection import train_test_split\n",
        "class MyLogisticRegression:\n",
        "    def __init__(self):\n",
        "        self.w = None\n",
        "        self.b = None\n",
        "        self.a = 0.001\n",
        "        self.n_iter = 10000\n",
        "\n",
        "    def sigmoid(self,x):\n",
        "        return 1/(1+np.exp(-x))\n",
        "\n",
        "    def fit(self,X,Y):\n",
        "        m, n= X.shape\n",
        "        self.bias = 0\n",
        "        self.b = 0\n",
        "        self.w = np.zeros(n)\n",
        "        for i in range(self.n_iter):\n",
        "            Y_pred = np.dot(X,self.w)+self.b\n",
        "            pred = self.sigmoid(Y_pred)\n",
        "            error = pred - Y\n",
        "            self.w = self.w - (self.a/m)*np.dot(X.T,error)\n",
        "            self.b = self.b - (self.a/m)*np.sum(error)\n",
        "\n",
        "    def predict(self,X):\n",
        "        Y_pred = np.dot(X,self.w)+self.b\n",
        "        Y_pred = self.sigmoid(Y_pred)\n",
        "        prediction = [0 if y <=0.5 else 1 for y in  Y_pred]\n",
        "        return prediction\n",
        "\n",
        "    def check_accuracy(self,Y_pred,Y_test):\n",
        "        count = 0\n",
        "        for i in range(len(Y_pred)):\n",
        "            if Y_pred[i] == Y_test[i]:\n",
        "                count += 1\n",
        "        accuracy = count/len(Y_pred)\n",
        "        return accuracy\n",
        "df = datasets.load_breast_cancer()\n",
        "X = df.data\n",
        "y = df.target\n",
        "X_train,X_test,Y_train,Y_test = train_test_split(X,y,test_size=0.2,random_state=12)\n",
        "reg2 = MyLogisticRegression()\n",
        "reg2.fit(X_train,Y_train)\n",
        "Y_pred =  reg2.predict(X_test)\n",
        "reg2.check_accuracy(Y_pred,Y_test)\n"
      ]
    },
    {
      "cell_type": "markdown",
      "metadata": {},
      "source": [
        "# Assignment\n"
      ]
    },
    {
      "cell_type": "code",
      "execution_count": 4,
      "metadata": {},
      "outputs": [
        {
          "name": "stdout",
          "output_type": "stream",
          "text": [
            "Learning Rate: 0.001, Iterations: 1000, Accuracy: 0.6993006993006993\n",
            "Learning Rate: 0.001, Iterations: 5000, Accuracy: 0.8741258741258742\n",
            "Learning Rate: 0.001, Iterations: 10000, Accuracy: 0.8811188811188811\n",
            "Learning Rate: 0.01, Iterations: 1000, Accuracy: 0.958041958041958\n",
            "Learning Rate: 0.01, Iterations: 5000, Accuracy: 0.9300699300699301\n",
            "Learning Rate: 0.01, Iterations: 10000, Accuracy: 0.916083916083916\n",
            "Learning Rate: 0.1, Iterations: 1000, Accuracy: 0.9300699300699301\n",
            "Learning Rate: 0.1, Iterations: 5000, Accuracy: 0.9020979020979021\n",
            "Learning Rate: 0.1, Iterations: 10000, Accuracy: 0.9090909090909091\n"
          ]
        }
      ],
      "source": [
        "# Importing necessary libraries\n",
        "import warnings\n",
        "warnings.filterwarnings(\"ignore\")  # Suppressing warnings\n",
        "import numpy as np\n",
        "import pandas as pd\n",
        "from sklearn import datasets\n",
        "from sklearn.model_selection import train_test_split\n",
        "\n",
        "# Custom Logistic Regression class\n",
        "class YashMyLogisticRegression:\n",
        "    def __init__(self, learning_rate=0.001, n_iterations=10000):\n",
        "        \"\"\"\n",
        "        Initialize logistic regression parameters.\n",
        "\n",
        "        Args:\n",
        "        - learning_rate (float): The rate at which the model learns (default: 0.001).\n",
        "        - n_iterations (int): The number of iterations for gradient descent (default: 10000).\n",
        "        \"\"\"\n",
        "        self.yash_w = None  # Initialize weights\n",
        "        self.yash_b = None  # Initialize bias\n",
        "        self.yash_a = learning_rate  # Set learning rate\n",
        "        self.yash_n_iter = n_iterations  # Set number of iterations\n",
        "\n",
        "    def yash_sigmoid(self, x):\n",
        "        \"\"\"\n",
        "        Sigmoid activation function.\n",
        "\n",
        "        Args:\n",
        "        - x (numpy array): Input data.\n",
        "\n",
        "        Returns:\n",
        "        - numpy array: Output after applying sigmoid function.\n",
        "        \"\"\"\n",
        "        return 1 / (1 + np.exp(-x))\n",
        "\n",
        "    def yash_fit(self, X, Y):\n",
        "        \"\"\"\n",
        "        Fit the logistic regression model to the training data.\n",
        "\n",
        "        Args:\n",
        "        - X (numpy array): Features of the training data.\n",
        "        - Y (numpy array): Labels of the training data.\n",
        "        \"\"\"\n",
        "        m, n = X.shape\n",
        "        self.yash_b = 0  # Initialize bias\n",
        "        self.yash_w = np.zeros(n)  # Initialize weights\n",
        "        for i in range(self.yash_n_iter):\n",
        "            Y_pred = np.dot(X, self.yash_w) + self.yash_b\n",
        "            pred = self.yash_sigmoid(Y_pred)\n",
        "            error = pred - Y\n",
        "            self.yash_w = self.yash_w - (self.yash_a / m) * np.dot(X.T, error)  # Update weights\n",
        "            self.yash_b = self.yash_b - (self.yash_a / m) * np.sum(error)  # Update bias\n",
        "\n",
        "    def yash_predict(self, X):\n",
        "        \"\"\"\n",
        "        Predict labels for input data.\n",
        "\n",
        "        Args:\n",
        "        - X (numpy array): Input data.\n",
        "\n",
        "        Returns:\n",
        "        - list: Predicted labels.\n",
        "        \"\"\"\n",
        "        Y_pred = np.dot(X, self.yash_w) + self.yash_b\n",
        "        Y_pred = self.yash_sigmoid(Y_pred)\n",
        "        prediction = [0 if y <= 0.5 else 1 for y in Y_pred]  # Binary classification\n",
        "        return prediction\n",
        "\n",
        "    def yash_check_accuracy(self, Y_pred, Y_test):\n",
        "        \"\"\"\n",
        "        Calculate accuracy of the model.\n",
        "\n",
        "        Args:\n",
        "        - Y_pred (list): Predicted labels.\n",
        "        - Y_test (numpy array): True labels.\n",
        "\n",
        "        Returns:\n",
        "        - float: Accuracy of the model.\n",
        "        \"\"\"\n",
        "        count = 0\n",
        "        for i in range(len(Y_pred)):\n",
        "            if Y_pred[i] == Y_test[i]:\n",
        "                count += 1\n",
        "        accuracy = count / len(Y_pred)\n",
        "        return accuracy\n",
        "\n",
        "# Load dataset\n",
        "yash_df = datasets.load_breast_cancer()\n",
        "yash_x = yash_df.data\n",
        "yash_y = yash_df.target\n",
        "\n",
        "# Split data\n",
        "yash_x_train, yash_x_test, yash_y_train, yash_y_test = train_test_split(yash_x, yash_y, test_size=0.25)\n",
        "\n",
        "# Instantiate the model with different learning rates and number of iterations\n",
        "learning_rates = [0.001, 0.01, 0.1]  # Different learning rates to try\n",
        "n_iterations = [1000, 5000, 10000]    # Different number of iterations to try\n",
        "\n",
        "# Hyperparameter tuning\n",
        "for lr in learning_rates:\n",
        "    for n_iter in n_iterations:\n",
        "        yash_reg = YashMyLogisticRegression(learning_rate=lr, n_iterations=n_iter)\n",
        "        yash_reg.yash_fit(yash_x_train, yash_y_train)\n",
        "        yash_y_pred = yash_reg.yash_predict(yash_x_test)\n",
        "        accuracy = yash_reg.yash_check_accuracy(yash_y_pred, yash_y_test)\n",
        "        print(f\"Learning Rate: {lr}, Iterations: {n_iter}, Accuracy: {accuracy}\")\n"
      ]
    }
  ],
  "metadata": {
    "colab": {
      "include_colab_link": true,
      "provenance": []
    },
    "kernelspec": {
      "display_name": "Python 3",
      "language": "python",
      "name": "python3"
    },
    "language_info": {
      "codemirror_mode": {
        "name": "ipython",
        "version": 3
      },
      "file_extension": ".py",
      "mimetype": "text/x-python",
      "name": "python",
      "nbconvert_exporter": "python",
      "pygments_lexer": "ipython3",
      "version": "3.12.1"
    }
  },
  "nbformat": 4,
  "nbformat_minor": 0
}
